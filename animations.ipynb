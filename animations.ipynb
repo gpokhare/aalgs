{
 "cells": [
  {
   "cell_type": "markdown",
   "metadata": {},
   "source": [
    "# ANIMATIONS\n",
    "\n",
    "## ANIMATE THOMPSON"
   ]
  },
  {
   "cell_type": "code",
   "execution_count": null,
   "metadata": {},
   "outputs": [],
   "source": [
    "# Make Necessary Imports \n",
    "import csv\n",
    "import os\n",
    "import glob\n",
    "import numpy as np\n",
    "import matplotlib.pyplot as plt\n",
    "from scipy.interpolate import make_interp_spline \n",
    "from matplotlib.animation import FuncAnimation\n",
    "\n",
    "def read_file(filename): \n",
    "    file = np.loadtxt(filename, delimiter=',')\n",
    "    return file \n",
    "\n",
    "probabilities = [] \n",
    "mean_vals = [] \n",
    "vars = [] \n",
    "values = [] \n",
    "\n",
    "\n",
    "for agent_index in range(10): \n",
    "    p = read_file(r\"C:\\Users\\gabip\\Desktop\\logs\\anim\" + f\"\\prob_vals_{agent_index}.csv\")\n",
    "    mv = read_file(r\"C:\\Users\\gabip\\Desktop\\logs\\anim\" + f\"\\\\thomp_valsm_{agent_index}.csv\")\n",
    "    var = read_file(r\"C:\\Users\\gabip\\Desktop\\logs\\anim\"+ f\"\\\\thomp_valsv_{agent_index}.csv\") \n",
    "    val = read_file(r\"C:\\Users\\gabip\\Desktop\\logs\\anim\"+ f\"\\\\vals_{agent_index}.csv\")\n",
    "    probabilities.append(p) \n",
    "    mean_vals.append(mv)\n",
    "    vars.append(var) \n",
    "    values.append(val) "
   ]
  },
  {
   "cell_type": "markdown",
   "metadata": {},
   "source": [
    "### Animate Probabilities"
   ]
  },
  {
   "cell_type": "code",
   "execution_count": null,
   "metadata": {},
   "outputs": [],
   "source": [
    "# ANIMATE THE PROBABILITIES \n",
    "current_agent = - 99 \n",
    "def anim_prob(i): \n",
    "    if i%100==0: \n",
    "        print(i)\n",
    "    plt.clf()\n",
    "    plt.title(f\"Time : {i}\")\n",
    "    plt.ylim(0, 1.1)\n",
    "    x = np.arange(0, len(probabilities[current_agent][0]), 1)\n",
    "    plt.plot(x, probabilities[current_agent][i+1], '-o', color='r')\n",
    "\n",
    "for agent_index in range(5, 10): \n",
    "    current_agent = agent_index\n",
    "    print(f\"Agent {current_agent}\")\n",
    "    fig = plt.figure()\n",
    "    ani = FuncAnimation(fig, anim_prob, frames=(len(probabilities[current_agent])-2), interval=100)\n",
    "    ani.save(f\"probs{agent_index}.gif\")"
   ]
  },
  {
   "cell_type": "markdown",
   "metadata": {},
   "source": [
    "### Animate the Values "
   ]
  },
  {
   "cell_type": "code",
   "execution_count": null,
   "metadata": {},
   "outputs": [],
   "source": [
    "current_agent = -99 \n",
    "def anim_val(i): \n",
    "    if i%100==0: \n",
    "        print(i)\n",
    "    plt.clf()\n",
    "    x = np.arange(0, len(values[current_agent][i]), 1)\n",
    "    plt.title(f\"Time : {i}\")\n",
    "    plt.ylim(0, 11)\n",
    "    plt.plot(x, values[current_agent][i+1], '-o', color='b')\n",
    "\n",
    "\n",
    "for agent_index in range(5, 10):\n",
    "    current_agent = agent_index\n",
    "    fig = plt.figure() \n",
    "    print(f\"Agent {current_agent}\")\n",
    "    ani = FuncAnimation(fig, anim_val, frames=(len(values[current_agent])-2), interval=100)\n",
    "    ani.save(f\"values{agent_index}.gif\")"
   ]
  },
  {
   "cell_type": "markdown",
   "metadata": {},
   "source": [
    "### Animate the Thompson Belief Updates"
   ]
  },
  {
   "cell_type": "code",
   "execution_count": null,
   "metadata": {},
   "outputs": [],
   "source": [
    "# ANIMATE THE NORM PDF \n",
    "from scipy.stats import norm\n",
    "colors = ['#ff0000', '#00ff00', '#0000ff', '#000000', '#a0a0a0', '#06efff', '#a406ff', '#ff8b06', '#cc6600','#9999ff']\n",
    "\n",
    "current_agent = -99 \n",
    "\n",
    "def anim_norm(i): \n",
    "    if i%100==0: \n",
    "        print(i)\n",
    "    new_means = mean_vals[current_agent][i+1]\n",
    "    new_vars = vars[current_agent][i+1]\n",
    "    plt.clf()\n",
    "    plt.title(f\"Time : {i}\")\n",
    "    x_axis = np.arange(0, len(new_means), 0.01)\n",
    "    for _ in range(len(new_means)): \n",
    "        mean = new_means[_]\n",
    "        var = new_vars[_]\n",
    "        if var <0.01: \n",
    "            var = 0.01 \n",
    "        plt.plot(x_axis, norm.pdf(x_axis, mean, np.sqrt(var)), linewidth=1, color=colors[_])\n",
    "\n",
    "\n",
    "for agent_index in range(5,10):\n",
    "    current_agent = agent_index\n",
    "    print(f\"Agent {current_agent}\")\n",
    "    fig = plt.figure()\n",
    "    ani = FuncAnimation(fig, anim_norm, frames=(len(mean_vals[current_agent])-2),interval=100)\n",
    "    ani.save(f\"norm{agent_index}.gif\")"
   ]
  },
  {
   "cell_type": "markdown",
   "metadata": {},
   "source": [
    "#### Make the Keys "
   ]
  },
  {
   "cell_type": "code",
   "execution_count": null,
   "metadata": {},
   "outputs": [],
   "source": [
    "import matplotlib as mpl \n",
    "keys = ['A0', 'A1', 'A2', 'A3', 'A4', 'A5', 'A6', 'A7', 'A8', 'A9']\n",
    "\n",
    "legend = [] \n",
    "for _ in range(10): \n",
    "    plt.scatter([0], [0], color=colors[_]) \n",
    "    legend.append(keys[_])\n",
    "plt.legend(legend)\n",
    "plt.gca().set_axis_off()\n",
    "plt.show()"
   ]
  },
  {
   "cell_type": "markdown",
   "metadata": {},
   "source": [
    "## ANIMATE UCB"
   ]
  },
  {
   "cell_type": "code",
   "execution_count": null,
   "metadata": {},
   "outputs": [],
   "source": [
    "import matplotlib.pyplot as plt\n",
    "   \n",
    "Country = ['USA','Canada','Germany','UK','France']\n",
    "GDP_Per_Capita = [45000,42000,52000,49000,47000]\n",
    "\n",
    "plt.bar(Country, GDP_Per_Capita, color=['black', 'red', 'green', 'blue', 'cyan'])\n",
    "plt.title('Country Vs GDP Per Capita')\n",
    "plt.xlabel('Country')\n",
    "plt.ylabel('GDP Per Capita')\n",
    "plt.show()"
   ]
  }
 ],
 "metadata": {
  "interpreter": {
   "hash": "aee8b7b246df8f9039afb4144a1f6fd8d2ca17a180786b69acc140d282b71a49"
  },
  "kernelspec": {
   "display_name": "Python 3.10.4 64-bit",
   "language": "python",
   "name": "python3"
  },
  "language_info": {
   "name": "python",
   "version": "3.10.4"
  },
  "orig_nbformat": 4
 },
 "nbformat": 4,
 "nbformat_minor": 2
}
